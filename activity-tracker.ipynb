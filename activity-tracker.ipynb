{
 "cells": [
  {
   "cell_type": "code",
   "execution_count": 1,
   "metadata": {
    "collapsed": false
   },
   "outputs": [
   ],
   "source": [
    "import altair as alt\n",
    "import numpy as np\n",
    "import pandas as pd"
   ]
  },
  {
   "cell_type": "code",
   "execution_count": 2,
   "metadata": {
    "collapsed": false
   },
   "outputs": [
   ],
   "source": [
    "today = pd.Timestamp.today()\n",
    "tomorrow = today + pd.Timedelta(1, unit=\"D\")\n",
    "\n",
    "goal_mileage = 200\n",
    "goal_start_date = pd.Timestamp(\"2021-10-11\")\n",
    "goal_end_date = pd.Timestamp(\"2021-12-17\")\n",
    "\n",
    "dates = pd.date_range(goal_start_date, goal_end_date)\n",
    "scale_idx = (dates>=goal_start_date) & (dates<=min(today, goal_end_date))\n",
    "mileage = np.linspace(0, goal_mileage, num=len(dates))\n",
    "\n",
    "goal = pd.DataFrame({\n",
    "    \"Date\": dates[scale_idx],\n",
    "    \"Mileage\": mileage[scale_idx],\n",
    "})"
   ]
  },
  {
   "cell_type": "code",
   "execution_count": 3,
   "metadata": {
    "collapsed": false
   },
   "outputs": [
   ],
   "source": [
    "activities = pd.read_csv(\"Activities.csv\")\n",
    "activities[\"Distance\"] = pd.to_numeric(activities[\"Distance\"].str.replace(\",\", \"\"))\n",
    "activities[\"Date\"] = pd.to_datetime(activities[\"Date\"])\n",
    "activities = activities[\n",
    "    (activities[\"Date\"] >= goal_start_date) & (activities[\"Date\"] <= goal_end_date)\n",
    "]\n",
    "activities = activities.sort_values(by=[\"Date\"])\n",
    "mask = activities[\"Activity Type\"].str.lower().str.contains(\"swim\")\n",
    "activities.loc[mask, \"Distance\"] = activities.loc[mask, \"Distance\"] * 3 / 5280"
   ]
  },
  {
   "cell_type": "code",
   "execution_count": 4,
   "metadata": {
    "collapsed": false
   },
   "outputs": [
   ],
   "source": [
    "progress = pd.DataFrame(activities[\"Date\"].dt.floor(\"D\"))\n",
    "progress[\"Distance\"] = activities[\"Distance\"]\n",
    "progress[\"Type\"] = activities[\"Activity Type\"]\n",
    "progress = progress.groupby(\"Date\").sum().cumsum().reset_index()"
   ]
  },
  {
   "cell_type": "code",
   "execution_count": 5,
   "metadata": {
    "collapsed": false
   },
   "outputs": [
    {
     "data": {
      "text/html": "\n<div id=\"altair-viz-3147f0357b25442e8d45cb54d11d1cfb\"></div>\n<script type=\"text/javascript\">\n  (function(spec, embedOpt){\n    let outputDiv = document.currentScript.previousElementSibling;\n    if (outputDiv.id !== \"altair-viz-3147f0357b25442e8d45cb54d11d1cfb\") {\n      outputDiv = document.getElementById(\"altair-viz-3147f0357b25442e8d45cb54d11d1cfb\");\n    }\n    const paths = {\n      \"vega\": \"https://cdn.jsdelivr.net/npm//vega@5?noext\",\n      \"vega-lib\": \"https://cdn.jsdelivr.net/npm//vega-lib?noext\",\n      \"vega-lite\": \"https://cdn.jsdelivr.net/npm//vega-lite@4.8.1?noext\",\n      \"vega-embed\": \"https://cdn.jsdelivr.net/npm//vega-embed@6?noext\",\n    };\n\n    function loadScript(lib) {\n      return new Promise(function(resolve, reject) {\n        var s = document.createElement('script');\n        s.src = paths[lib];\n        s.async = true;\n        s.onload = () => resolve(paths[lib]);\n        s.onerror = () => reject(`Error loading script: ${paths[lib]}`);\n        document.getElementsByTagName(\"head\")[0].appendChild(s);\n      });\n    }\n\n    function showError(err) {\n      outputDiv.innerHTML = `<div class=\"error\" style=\"color:red;\">${err}</div>`;\n      throw err;\n    }\n\n    function displayChart(vegaEmbed) {\n      vegaEmbed(outputDiv, spec, embedOpt)\n        .catch(err => showError(`Javascript Error: ${err.message}<br>This usually means there's a typo in your chart specification. See the javascript console for the full traceback.`));\n    }\n\n    if(typeof define === \"function\" && define.amd) {\n      requirejs.config({paths});\n      require([\"vega-embed\"], displayChart, err => showError(`Error loading script: ${err.message}`));\n    } else if (typeof vegaEmbed === \"function\") {\n      displayChart(vegaEmbed);\n    } else {\n      loadScript(\"vega\")\n        .then(() => loadScript(\"vega-lite\"))\n        .then(() => loadScript(\"vega-embed\"))\n        .catch(showError)\n        .then(() => displayChart(vegaEmbed));\n    }\n  })({\"config\": {\"view\": {\"continuousWidth\": 400, \"continuousHeight\": 300}, \"axis\": {\"grid\": true}}, \"layer\": [{\"data\": {\"name\": \"data-d97362d952dbdedef4a44b5534c6e8c9\"}, \"mark\": \"bar\", \"encoding\": {\"color\": {\"type\": \"nominal\", \"field\": \"Activity Type\"}, \"x\": {\"type\": \"ordinal\", \"field\": \"Date\", \"timeUnit\": \"monthdate\"}, \"y\": {\"type\": \"quantitative\", \"aggregate\": \"sum\", \"field\": \"Distance\", \"title\": \"Daily Mileage\"}}}, {\"layer\": [{\"data\": {\"name\": \"data-f688916954adbbad808295180db7fba4\"}, \"mark\": {\"type\": \"line\", \"clip\": true}, \"encoding\": {\"color\": {\"value\": \"black\"}, \"x\": {\"type\": \"ordinal\", \"field\": \"Date\", \"timeUnit\": \"monthdate\"}, \"y\": {\"type\": \"quantitative\", \"field\": \"Mileage\"}}, \"title\": \"Mileage Tracker\"}, {\"data\": {\"name\": \"data-123da4863298269dd129287779726878\"}, \"mark\": \"line\", \"encoding\": {\"color\": {\"value\": \"green\"}, \"x\": {\"type\": \"ordinal\", \"field\": \"Date\", \"timeUnit\": \"monthdate\"}, \"y\": {\"type\": \"quantitative\", \"field\": \"Distance\", \"title\": \"Cumulative Mileage\"}}}]}], \"height\": 480, \"width\": 640, \"$schema\": \"https://vega.github.io/schema/vega-lite/v4.8.1.json\", \"datasets\": {\"data-d97362d952dbdedef4a44b5534c6e8c9\": [{\"Activity Type\": \"Running\", \"Date\": \"2021-10-18T05:37:22\", \"Favorite\": false, \"Title\": \"Al Rayyan Running\", \"Distance\": 5.6, \"Calories\": 689, \"Time\": \"00:57:54\", \"Avg HR\": \"159\", \"Max HR\": \"188\", \"Aerobic TE\": \"3.6\", \"Avg Run Cadence\": \"154\", \"Max Run Cadence\": \"184\", \"Avg Pace\": \"10:20\", \"Best Pace\": \"5:53\", \"Total Ascent\": \"21\", \"Total Descent\": \"63\", \"Avg Stride Length\": 1.0, \"Avg Vertical Ratio\": 9.5, \"Avg Vertical Oscillation\": 9.6, \"Avg Ground Contact Time\": \"282\", \"Avg GCT Balance\": \"49.3% L / 50.7% R\", \"Training Stress Score\\u00ae\": 0.0, \"Grit\": 0.0, \"Flow\": 0.0, \"Total Strokes\": \"--\", \"Avg. Swolf\": \"--\", \"Avg Stroke Rate\": \"--\", \"Total Reps\": \"--\", \"Total Sets\": \"--\", \"Dive Time\": \"0:00\", \"Min Temp\": 82.4, \"Surface Interval\": \"0:00\", \"Decompression\": \"No\", \"Best Lap Time\": \"00:40.00\", \"Number of Laps\": 22, \"Max Temp\": 0.0, \"Avg Resp\": \"32\", \"Min Resp\": \"12\", \"Max Resp\": \"41\", \"Moving Time\": \"00:57:48\", \"Elapsed Time\": \"01:21:01\", \"Min Elevation\": \"109\", \"Max Elevation\": \"149\"}, {\"Activity Type\": \"Strength Training\", \"Date\": \"2021-10-18T18:03:00\", \"Favorite\": false, \"Title\": \"Strength\", \"Distance\": 0.0, \"Calories\": 114, \"Time\": \"00:16:53\", \"Avg HR\": \"114\", \"Max HR\": \"142\", \"Aerobic TE\": \"1.2\", \"Avg Run Cadence\": \"--\", \"Max Run Cadence\": \"--\", \"Avg Pace\": \"--\", \"Best Pace\": \"--\", \"Total Ascent\": \"--\", \"Total Descent\": \"--\", \"Avg Stride Length\": 0.0, \"Avg Vertical Ratio\": 0.0, \"Avg Vertical Oscillation\": 0.0, \"Avg Ground Contact Time\": \"--\", \"Avg GCT Balance\": \"--\", \"Training Stress Score\\u00ae\": 0.0, \"Grit\": 0.0, \"Flow\": 0.0, \"Total Strokes\": \"--\", \"Avg. Swolf\": \"--\", \"Avg Stroke Rate\": \"--\", \"Total Reps\": \"64\", \"Total Sets\": \"14\", \"Dive Time\": \"0:00\", \"Min Temp\": 80.6, \"Surface Interval\": \"0:00\", \"Decompression\": \"No\", \"Best Lap Time\": \"16:52.58\", \"Number of Laps\": 1, \"Max Temp\": 0.0, \"Avg Resp\": \"--\", \"Min Resp\": \"--\", \"Max Resp\": \"--\", \"Moving Time\": \"00:08:32.4\", \"Elapsed Time\": \"00:16:53\", \"Min Elevation\": \"--\", \"Max Elevation\": \"--\"}, {\"Activity Type\": \"Running\", \"Date\": \"2021-10-20T05:26:44\", \"Favorite\": false, \"Title\": \"Al Rayyan Running\", \"Distance\": 3.43, \"Calories\": 402, \"Time\": \"00:31:10\", \"Avg HR\": \"155\", \"Max HR\": \"172\", \"Aerobic TE\": \"3.4\", \"Avg Run Cadence\": \"160\", \"Max Run Cadence\": \"168\", \"Avg Pace\": \"9:04\", \"Best Pace\": \"8:20\", \"Total Ascent\": \"50\", \"Total Descent\": \"38\", \"Avg Stride Length\": 1.11, \"Avg Vertical Ratio\": 8.8, \"Avg Vertical Oscillation\": 10.1, \"Avg Ground Contact Time\": \"274\", \"Avg GCT Balance\": \"49.4% L / 50.6% R\", \"Training Stress Score\\u00ae\": 0.0, \"Grit\": 0.0, \"Flow\": 0.0, \"Total Strokes\": \"--\", \"Avg. Swolf\": \"--\", \"Avg Stroke Rate\": \"--\", \"Total Reps\": \"--\", \"Total Sets\": \"--\", \"Dive Time\": \"0:00\", \"Min Temp\": 80.6, \"Surface Interval\": \"0:00\", \"Decompression\": \"No\", \"Best Lap Time\": \"03:54.18\", \"Number of Laps\": 4, \"Max Temp\": 0.0, \"Avg Resp\": \"35\", \"Min Resp\": \"18\", \"Max Resp\": \"43\", \"Moving Time\": \"00:31:09\", \"Elapsed Time\": \"00:31:10\", \"Min Elevation\": \"169\", \"Max Elevation\": \"192\"}, {\"Activity Type\": \"Pool Swimming\", \"Date\": \"2021-10-21T05:23:27\", \"Favorite\": false, \"Title\": \"Pool Workout\", \"Distance\": 0.5539772727272727, \"Calories\": 356, \"Time\": \"00:41:41\", \"Avg HR\": \"145\", \"Max HR\": \"170\", \"Aerobic TE\": \"3.0\", \"Avg Run Cadence\": \"--\", \"Max Run Cadence\": \"--\", \"Avg Pace\": \"3:16\", \"Best Pace\": \"1:16\", \"Total Ascent\": \"--\", \"Total Descent\": \"--\", \"Avg Stride Length\": 0.0, \"Avg Vertical Ratio\": 0.0, \"Avg Vertical Oscillation\": 0.0, \"Avg Ground Contact Time\": \"--\", \"Avg GCT Balance\": \"--\", \"Training Stress Score\\u00ae\": 0.0, \"Grit\": 0.0, \"Flow\": 0.0, \"Total Strokes\": \"805\", \"Avg. Swolf\": \"70\", \"Avg Stroke Rate\": \"25\", \"Total Reps\": \"--\", \"Total Sets\": \"--\", \"Dive Time\": \"0:00\", \"Min Temp\": 0.0, \"Surface Interval\": \"0:00\", \"Decompression\": \"No\", \"Best Lap Time\": \"00:10.00\", \"Number of Laps\": 12, \"Max Temp\": 0.0, \"Avg Resp\": \"--\", \"Min Resp\": \"--\", \"Max Resp\": \"--\", \"Moving Time\": \"00:31:52\", \"Elapsed Time\": \"00:43:56\", \"Min Elevation\": \"--\", \"Max Elevation\": \"--\"}, {\"Activity Type\": \"Walking\", \"Date\": \"2021-10-22T06:17:53\", \"Favorite\": false, \"Title\": \"Al Rayyan Walking\", \"Distance\": 1.11, \"Calories\": 113, \"Time\": \"00:20:02\", \"Avg HR\": \"94\", \"Max HR\": \"105\", \"Aerobic TE\": \"0.4\", \"Avg Run Cadence\": \"112\", \"Max Run Cadence\": \"126\", \"Avg Pace\": \"18:03\", \"Best Pace\": \"15:12\", \"Total Ascent\": \"8\", \"Total Descent\": \"45\", \"Avg Stride Length\": 0.8, \"Avg Vertical Ratio\": 0.0, \"Avg Vertical Oscillation\": 0.0, \"Avg Ground Contact Time\": \"--\", \"Avg GCT Balance\": \"--\", \"Training Stress Score\\u00ae\": 0.0, \"Grit\": 0.0, \"Flow\": 0.0, \"Total Strokes\": \"--\", \"Avg. Swolf\": \"--\", \"Avg Stroke Rate\": \"--\", \"Total Reps\": \"--\", \"Total Sets\": \"--\", \"Dive Time\": \"0:00\", \"Min Temp\": 84.2, \"Surface Interval\": \"0:00\", \"Decompression\": \"No\", \"Best Lap Time\": \"01:47.75\", \"Number of Laps\": 2, \"Max Temp\": 0.0, \"Avg Resp\": \"--\", \"Min Resp\": \"--\", \"Max Resp\": \"--\", \"Moving Time\": \"00:19:09\", \"Elapsed Time\": \"00:20:02\", \"Min Elevation\": \"93\", \"Max Elevation\": \"132\"}, {\"Activity Type\": \"Strength Training\", \"Date\": \"2021-10-22T23:59:47\", \"Favorite\": false, \"Title\": \"Strength\", \"Distance\": 0.0, \"Calories\": 211, \"Time\": \"00:31:36\", \"Avg HR\": \"115\", \"Max HR\": \"145\", \"Aerobic TE\": \"1.5\", \"Avg Run Cadence\": \"--\", \"Max Run Cadence\": \"--\", \"Avg Pace\": \"--\", \"Best Pace\": \"--\", \"Total Ascent\": \"--\", \"Total Descent\": \"--\", \"Avg Stride Length\": 0.0, \"Avg Vertical Ratio\": 0.0, \"Avg Vertical Oscillation\": 0.0, \"Avg Ground Contact Time\": \"--\", \"Avg GCT Balance\": \"--\", \"Training Stress Score\\u00ae\": 0.0, \"Grit\": 0.0, \"Flow\": 0.0, \"Total Strokes\": \"--\", \"Avg. Swolf\": \"--\", \"Avg Stroke Rate\": \"--\", \"Total Reps\": \"115\", \"Total Sets\": \"26\", \"Dive Time\": \"0:00\", \"Min Temp\": 80.6, \"Surface Interval\": \"0:00\", \"Decompression\": \"No\", \"Best Lap Time\": \"31:36.36\", \"Number of Laps\": 1, \"Max Temp\": 0.0, \"Avg Resp\": \"--\", \"Min Resp\": \"--\", \"Max Resp\": \"--\", \"Moving Time\": \"00:13:19\", \"Elapsed Time\": \"00:31:36\", \"Min Elevation\": \"--\", \"Max Elevation\": \"--\"}, {\"Activity Type\": \"Running\", \"Date\": \"2021-10-23T06:35:01\", \"Favorite\": false, \"Title\": \"Al Rayyan Running\", \"Distance\": 4.55, \"Calories\": 546, \"Time\": \"00:42:36\", \"Avg HR\": \"160\", \"Max HR\": \"177\", \"Aerobic TE\": \"3.7\", \"Avg Run Cadence\": \"161\", \"Max Run Cadence\": \"178\", \"Avg Pace\": \"9:22\", \"Best Pace\": \"8:23\", \"Total Ascent\": \"30\", \"Total Descent\": \"89\", \"Avg Stride Length\": 1.06, \"Avg Vertical Ratio\": 8.2, \"Avg Vertical Oscillation\": 9.0, \"Avg Ground Contact Time\": \"271\", \"Avg GCT Balance\": \"49.5% L / 50.5% R\", \"Training Stress Score\\u00ae\": 0.0, \"Grit\": 0.0, \"Flow\": 0.0, \"Total Strokes\": \"--\", \"Avg. Swolf\": \"--\", \"Avg Stroke Rate\": \"--\", \"Total Reps\": \"--\", \"Total Sets\": \"--\", \"Dive Time\": \"0:00\", \"Min Temp\": 80.6, \"Surface Interval\": \"0:00\", \"Decompression\": \"No\", \"Best Lap Time\": \"06:26.64\", \"Number of Laps\": 5, \"Max Temp\": 0.0, \"Avg Resp\": \"31\", \"Min Resp\": \"12\", \"Max Resp\": \"39\", \"Moving Time\": \"00:42:36\", \"Elapsed Time\": \"00:42:36\", \"Min Elevation\": \"118\", \"Max Elevation\": \"180\"}, {\"Activity Type\": \"Strength Training\", \"Date\": \"2021-10-23T23:27:00\", \"Favorite\": false, \"Title\": \"Strength\", \"Distance\": 0.0, \"Calories\": 225, \"Time\": \"00:31:50\", \"Avg HR\": \"117\", \"Max HR\": \"142\", \"Aerobic TE\": \"1.5\", \"Avg Run Cadence\": \"--\", \"Max Run Cadence\": \"--\", \"Avg Pace\": \"--\", \"Best Pace\": \"--\", \"Total Ascent\": \"--\", \"Total Descent\": \"--\", \"Avg Stride Length\": 0.0, \"Avg Vertical Ratio\": 0.0, \"Avg Vertical Oscillation\": 0.0, \"Avg Ground Contact Time\": \"--\", \"Avg GCT Balance\": \"--\", \"Training Stress Score\\u00ae\": 0.0, \"Grit\": 0.0, \"Flow\": 0.0, \"Total Strokes\": \"--\", \"Avg. Swolf\": \"--\", \"Avg Stroke Rate\": \"--\", \"Total Reps\": \"109\", \"Total Sets\": \"21\", \"Dive Time\": \"0:00\", \"Min Temp\": 78.8, \"Surface Interval\": \"0:00\", \"Decompression\": \"No\", \"Best Lap Time\": \"31:49.82\", \"Number of Laps\": 1, \"Max Temp\": 0.0, \"Avg Resp\": \"--\", \"Min Resp\": \"--\", \"Max Resp\": \"--\", \"Moving Time\": \"00:11:05\", \"Elapsed Time\": \"00:31:50\", \"Min Elevation\": \"--\", \"Max Elevation\": \"--\"}, {\"Activity Type\": \"Walking\", \"Date\": \"2021-10-24T05:14:59\", \"Favorite\": false, \"Title\": \"Al Rayyan Walking\", \"Distance\": 4.35, \"Calories\": 442, \"Time\": \"01:12:34\", \"Avg HR\": \"96\", \"Max HR\": \"111\", \"Aerobic TE\": \"1.7\", \"Avg Run Cadence\": \"123\", \"Max Run Cadence\": \"170\", \"Avg Pace\": \"16:40\", \"Best Pace\": \"13:53\", \"Total Ascent\": \"35\", \"Total Descent\": \"87\", \"Avg Stride Length\": 0.78, \"Avg Vertical Ratio\": 0.0, \"Avg Vertical Oscillation\": 0.0, \"Avg Ground Contact Time\": \"--\", \"Avg GCT Balance\": \"--\", \"Training Stress Score\\u00ae\": 0.0, \"Grit\": 0.0, \"Flow\": 0.0, \"Total Strokes\": \"--\", \"Avg. Swolf\": \"--\", \"Avg Stroke Rate\": \"--\", \"Total Reps\": \"--\", \"Total Sets\": \"--\", \"Dive Time\": \"0:00\", \"Min Temp\": 75.2, \"Surface Interval\": \"0:00\", \"Decompression\": \"No\", \"Best Lap Time\": \"05:44.94\", \"Number of Laps\": 5, \"Max Temp\": 0.0, \"Avg Resp\": \"18\", \"Min Resp\": \"18\", \"Max Resp\": \"18\", \"Moving Time\": \"01:12:32\", \"Elapsed Time\": \"01:17:05\", \"Min Elevation\": \"66\", \"Max Elevation\": \"144\"}, {\"Activity Type\": \"Running\", \"Date\": \"2021-10-25T05:26:11\", \"Favorite\": false, \"Title\": \"Al Rayyan Running\", \"Distance\": 3.14, \"Calories\": 372, \"Time\": \"00:34:45\", \"Avg HR\": \"139\", \"Max HR\": \"157\", \"Aerobic TE\": \"2.5\", \"Avg Run Cadence\": \"152\", \"Max Run Cadence\": \"167\", \"Avg Pace\": \"11:05\", \"Best Pace\": \"9:02\", \"Total Ascent\": \"7\", \"Total Descent\": \"17\", \"Avg Stride Length\": 0.95, \"Avg Vertical Ratio\": 9.4, \"Avg Vertical Oscillation\": 9.2, \"Avg Ground Contact Time\": \"291\", \"Avg GCT Balance\": \"49.3% L / 50.7% R\", \"Training Stress Score\\u00ae\": 0.0, \"Grit\": 0.0, \"Flow\": 0.0, \"Total Strokes\": \"--\", \"Avg. Swolf\": \"--\", \"Avg Stroke Rate\": \"--\", \"Total Reps\": \"--\", \"Total Sets\": \"--\", \"Dive Time\": \"0:00\", \"Min Temp\": 80.6, \"Surface Interval\": \"0:00\", \"Decompression\": \"No\", \"Best Lap Time\": \"02:44.96\", \"Number of Laps\": 4, \"Max Temp\": 0.0, \"Avg Resp\": \"21\", \"Min Resp\": \"12\", \"Max Resp\": \"34\", \"Moving Time\": \"00:34:44\", \"Elapsed Time\": \"00:34:45\", \"Min Elevation\": \"166\", \"Max Elevation\": \"180\"}, {\"Activity Type\": \"Strength Training\", \"Date\": \"2021-10-25T23:44:00\", \"Favorite\": false, \"Title\": \"Strength\", \"Distance\": 0.0, \"Calories\": 196, \"Time\": \"00:25:27\", \"Avg HR\": \"117\", \"Max HR\": \"150\", \"Aerobic TE\": \"1.3\", \"Avg Run Cadence\": \"--\", \"Max Run Cadence\": \"--\", \"Avg Pace\": \"--\", \"Best Pace\": \"--\", \"Total Ascent\": \"--\", \"Total Descent\": \"--\", \"Avg Stride Length\": 0.0, \"Avg Vertical Ratio\": 0.0, \"Avg Vertical Oscillation\": 0.0, \"Avg Ground Contact Time\": \"--\", \"Avg GCT Balance\": \"--\", \"Training Stress Score\\u00ae\": 0.0, \"Grit\": 0.0, \"Flow\": 0.0, \"Total Strokes\": \"--\", \"Avg. Swolf\": \"--\", \"Avg Stroke Rate\": \"--\", \"Total Reps\": \"94\", \"Total Sets\": \"18\", \"Dive Time\": \"0:00\", \"Min Temp\": 78.8, \"Surface Interval\": \"0:00\", \"Decompression\": \"No\", \"Best Lap Time\": \"25:26.44\", \"Number of Laps\": 1, \"Max Temp\": 0.0, \"Avg Resp\": \"16\", \"Min Resp\": \"16\", \"Max Resp\": \"16\", \"Moving Time\": \"00:09:02.3\", \"Elapsed Time\": \"00:25:26\", \"Min Elevation\": \"--\", \"Max Elevation\": \"--\"}, {\"Activity Type\": \"Walking\", \"Date\": \"2021-10-26T05:55:05\", \"Favorite\": false, \"Title\": \"Al Rayyan Walking\", \"Distance\": 4.35, \"Calories\": 458, \"Time\": \"01:09:51\", \"Avg HR\": \"99\", \"Max HR\": \"114\", \"Aerobic TE\": \"1.8\", \"Avg Run Cadence\": \"125\", \"Max Run Cadence\": \"134\", \"Avg Pace\": \"16:03\", \"Best Pace\": \"14:59\", \"Total Ascent\": \"30\", \"Total Descent\": \"56\", \"Avg Stride Length\": 0.8, \"Avg Vertical Ratio\": 0.0, \"Avg Vertical Oscillation\": 0.0, \"Avg Ground Contact Time\": \"--\", \"Avg GCT Balance\": \"--\", \"Training Stress Score\\u00ae\": 0.0, \"Grit\": 0.0, \"Flow\": 0.0, \"Total Strokes\": \"--\", \"Avg. Swolf\": \"--\", \"Avg Stroke Rate\": \"--\", \"Total Reps\": \"--\", \"Total Sets\": \"--\", \"Dive Time\": \"0:00\", \"Min Temp\": 78.8, \"Surface Interval\": \"0:00\", \"Decompression\": \"No\", \"Best Lap Time\": \"05:26.59\", \"Number of Laps\": 5, \"Max Temp\": 0.0, \"Avg Resp\": \"17\", \"Min Resp\": \"17\", \"Max Resp\": \"17\", \"Moving Time\": \"01:09:21\", \"Elapsed Time\": \"01:09:51\", \"Min Elevation\": \"153\", \"Max Elevation\": \"186\"}, {\"Activity Type\": \"Strength Training\", \"Date\": \"2021-10-27T01:20:00\", \"Favorite\": false, \"Title\": \"Strength\", \"Distance\": 0.0, \"Calories\": 86, \"Time\": \"00:17:14\", \"Avg HR\": \"98\", \"Max HR\": \"114\", \"Aerobic TE\": \"0.3\", \"Avg Run Cadence\": \"--\", \"Max Run Cadence\": \"--\", \"Avg Pace\": \"--\", \"Best Pace\": \"--\", \"Total Ascent\": \"--\", \"Total Descent\": \"--\", \"Avg Stride Length\": 0.0, \"Avg Vertical Ratio\": 0.0, \"Avg Vertical Oscillation\": 0.0, \"Avg Ground Contact Time\": \"--\", \"Avg GCT Balance\": \"--\", \"Training Stress Score\\u00ae\": 0.0, \"Grit\": 0.0, \"Flow\": 0.0, \"Total Strokes\": \"--\", \"Avg. Swolf\": \"--\", \"Avg Stroke Rate\": \"--\", \"Total Reps\": \"75\", \"Total Sets\": \"15\", \"Dive Time\": \"0:00\", \"Min Temp\": 78.8, \"Surface Interval\": \"0:00\", \"Decompression\": \"No\", \"Best Lap Time\": \"17:14.34\", \"Number of Laps\": 1, \"Max Temp\": 0.0, \"Avg Resp\": \"--\", \"Min Resp\": \"--\", \"Max Resp\": \"--\", \"Moving Time\": \"00:05:42.4\", \"Elapsed Time\": \"00:17:14\", \"Min Elevation\": \"--\", \"Max Elevation\": \"--\"}, {\"Activity Type\": \"Running\", \"Date\": \"2021-10-27T06:47:02\", \"Favorite\": false, \"Title\": \"Al Rayyan Running\", \"Distance\": 4.4, \"Calories\": 511, \"Time\": \"00:40:50\", \"Avg HR\": \"153\", \"Max HR\": \"178\", \"Aerobic TE\": \"3.3\", \"Avg Run Cadence\": \"162\", \"Max Run Cadence\": \"184\", \"Avg Pace\": \"9:16\", \"Best Pace\": \"6:09\", \"Total Ascent\": \"41\", \"Total Descent\": \"60\", \"Avg Stride Length\": 1.07, \"Avg Vertical Ratio\": 8.5, \"Avg Vertical Oscillation\": 9.2, \"Avg Ground Contact Time\": \"275\", \"Avg GCT Balance\": \"49.4% L / 50.6% R\", \"Training Stress Score\\u00ae\": 0.0, \"Grit\": 0.0, \"Flow\": 0.0, \"Total Strokes\": \"--\", \"Avg. Swolf\": \"--\", \"Avg Stroke Rate\": \"--\", \"Total Reps\": \"--\", \"Total Sets\": \"--\", \"Dive Time\": \"0:00\", \"Min Temp\": 84.2, \"Surface Interval\": \"0:00\", \"Decompression\": \"No\", \"Best Lap Time\": \"00:52.42\", \"Number of Laps\": 6, \"Max Temp\": 0.0, \"Avg Resp\": \"26\", \"Min Resp\": \"11\", \"Max Resp\": \"41\", \"Moving Time\": \"00:40:48\", \"Elapsed Time\": \"00:40:50\", \"Min Elevation\": \"159\", \"Max Elevation\": \"193\"}, {\"Activity Type\": \"Strength Training\", \"Date\": \"2021-10-29T01:14:43\", \"Favorite\": false, \"Title\": \"Strength\", \"Distance\": 0.0, \"Calories\": 237, \"Time\": \"00:33:22\", \"Avg HR\": \"115\", \"Max HR\": \"136\", \"Aerobic TE\": \"1.4\", \"Avg Run Cadence\": \"--\", \"Max Run Cadence\": \"--\", \"Avg Pace\": \"--\", \"Best Pace\": \"--\", \"Total Ascent\": \"--\", \"Total Descent\": \"--\", \"Avg Stride Length\": 0.0, \"Avg Vertical Ratio\": 0.0, \"Avg Vertical Oscillation\": 0.0, \"Avg Ground Contact Time\": \"--\", \"Avg GCT Balance\": \"--\", \"Training Stress Score\\u00ae\": 0.0, \"Grit\": 0.0, \"Flow\": 0.0, \"Total Strokes\": \"--\", \"Avg. Swolf\": \"--\", \"Avg Stroke Rate\": \"--\", \"Total Reps\": \"165\", \"Total Sets\": \"23\", \"Dive Time\": \"0:00\", \"Min Temp\": 80.6, \"Surface Interval\": \"0:00\", \"Decompression\": \"No\", \"Best Lap Time\": \"33:21.64\", \"Number of Laps\": 1, \"Max Temp\": 0.0, \"Avg Resp\": \"--\", \"Min Resp\": \"--\", \"Max Resp\": \"--\", \"Moving Time\": \"00:13:07\", \"Elapsed Time\": \"00:33:22\", \"Min Elevation\": \"--\", \"Max Elevation\": \"--\"}, {\"Activity Type\": \"Pool Swimming\", \"Date\": \"2021-10-29T20:58:16\", \"Favorite\": false, \"Title\": \"W03D4-Tech Swim\", \"Distance\": 0.6818181818181818, \"Calories\": 432, \"Time\": \"00:44:21\", \"Avg HR\": \"150\", \"Max HR\": \"170\", \"Aerobic TE\": \"3.3\", \"Avg Run Cadence\": \"--\", \"Max Run Cadence\": \"--\", \"Avg Pace\": \"2:58\", \"Best Pace\": \"1:08\", \"Total Ascent\": \"--\", \"Total Descent\": \"--\", \"Avg Stride Length\": 0.0, \"Avg Vertical Ratio\": 0.0, \"Avg Vertical Oscillation\": 0.0, \"Avg Ground Contact Time\": \"--\", \"Avg GCT Balance\": \"--\", \"Training Stress Score\\u00ae\": 0.0, \"Grit\": 0.0, \"Flow\": 0.0, \"Total Strokes\": \"699\", \"Avg. Swolf\": \"64\", \"Avg Stroke Rate\": \"24\", \"Total Reps\": \"--\", \"Total Sets\": \"--\", \"Dive Time\": \"0:00\", \"Min Temp\": 0.0, \"Surface Interval\": \"0:00\", \"Decompression\": \"No\", \"Best Lap Time\": \"00:17.78\", \"Number of Laps\": 34, \"Max Temp\": 0.0, \"Avg Resp\": \"--\", \"Min Resp\": \"--\", \"Max Resp\": \"--\", \"Moving Time\": \"00:35:37\", \"Elapsed Time\": \"00:45:08\", \"Min Elevation\": \"--\", \"Max Elevation\": \"--\"}, {\"Activity Type\": \"Running\", \"Date\": \"2021-10-30T04:57:02\", \"Favorite\": false, \"Title\": \"Al Rayyan Running\", \"Distance\": 6.45, \"Calories\": 776, \"Time\": \"01:02:17\", \"Avg HR\": \"154\", \"Max HR\": \"174\", \"Aerobic TE\": \"3.7\", \"Avg Run Cadence\": \"158\", \"Max Run Cadence\": \"166\", \"Avg Pace\": \"9:40\", \"Best Pace\": \"8:38\", \"Total Ascent\": \"30\", \"Total Descent\": \"51\", \"Avg Stride Length\": 1.05, \"Avg Vertical Ratio\": 8.9, \"Avg Vertical Oscillation\": 9.6, \"Avg Ground Contact Time\": \"273\", \"Avg GCT Balance\": \"49.4% L / 50.6% R\", \"Training Stress Score\\u00ae\": 0.0, \"Grit\": 0.0, \"Flow\": 0.0, \"Total Strokes\": \"--\", \"Avg. Swolf\": \"--\", \"Avg Stroke Rate\": \"--\", \"Total Reps\": \"--\", \"Total Sets\": \"--\", \"Dive Time\": \"0:00\", \"Min Temp\": 77.0, \"Surface Interval\": \"0:00\", \"Decompression\": \"No\", \"Best Lap Time\": \"06:07.60\", \"Number of Laps\": 7, \"Max Temp\": 0.0, \"Avg Resp\": \"31\", \"Min Resp\": \"19\", \"Max Resp\": \"40\", \"Moving Time\": \"01:02:14\", \"Elapsed Time\": \"01:03:59\", \"Min Elevation\": \"155\", \"Max Elevation\": \"180\"}, {\"Activity Type\": \"Strength Training\", \"Date\": \"2021-10-30T23:00:00\", \"Favorite\": false, \"Title\": \"Core workout\", \"Distance\": 0.0, \"Calories\": 302, \"Time\": \"00:45:00\", \"Avg HR\": \"--\", \"Max HR\": \"--\", \"Aerobic TE\": \"--\", \"Avg Run Cadence\": \"--\", \"Max Run Cadence\": \"--\", \"Avg Pace\": \"--\", \"Best Pace\": \"--\", \"Total Ascent\": \"--\", \"Total Descent\": \"--\", \"Avg Stride Length\": 0.0, \"Avg Vertical Ratio\": 0.0, \"Avg Vertical Oscillation\": 0.0, \"Avg Ground Contact Time\": \"--\", \"Avg GCT Balance\": \"--\", \"Training Stress Score\\u00ae\": 0.0, \"Grit\": 0.0, \"Flow\": 0.0, \"Total Strokes\": \"--\", \"Avg. Swolf\": \"--\", \"Avg Stroke Rate\": \"--\", \"Total Reps\": \"--\", \"Total Sets\": \"--\", \"Dive Time\": \"0:00\", \"Min Temp\": 0.0, \"Surface Interval\": \"0:00\", \"Decompression\": \"No\", \"Best Lap Time\": \"45:00.00\", \"Number of Laps\": 1, \"Max Temp\": 0.0, \"Avg Resp\": \"--\", \"Min Resp\": \"--\", \"Max Resp\": \"--\", \"Moving Time\": \"00:00:00\", \"Elapsed Time\": \"00:45:00\", \"Min Elevation\": \"--\", \"Max Elevation\": \"--\"}, {\"Activity Type\": \"Walking\", \"Date\": \"2021-10-31T17:54:00\", \"Favorite\": false, \"Title\": \"Al Rayyan Walking\", \"Distance\": 3.05, \"Calories\": 319, \"Time\": \"00:48:09\", \"Avg HR\": \"103\", \"Max HR\": \"126\", \"Aerobic TE\": \"0.9\", \"Avg Run Cadence\": \"119\", \"Max Run Cadence\": \"127\", \"Avg Pace\": \"15:48\", \"Best Pace\": \"13:08\", \"Total Ascent\": \"28\", \"Total Descent\": \"47\", \"Avg Stride Length\": 0.85, \"Avg Vertical Ratio\": 0.0, \"Avg Vertical Oscillation\": 0.0, \"Avg Ground Contact Time\": \"--\", \"Avg GCT Balance\": \"--\", \"Training Stress Score\\u00ae\": 0.0, \"Grit\": 0.0, \"Flow\": 0.0, \"Total Strokes\": \"--\", \"Avg. Swolf\": \"--\", \"Avg Stroke Rate\": \"--\", \"Total Reps\": \"--\", \"Total Sets\": \"--\", \"Dive Time\": \"0:00\", \"Min Temp\": 82.4, \"Surface Interval\": \"0:00\", \"Decompression\": \"No\", \"Best Lap Time\": \"00:55.15\", \"Number of Laps\": 4, \"Max Temp\": 0.0, \"Avg Resp\": \"--\", \"Min Resp\": \"--\", \"Max Resp\": \"--\", \"Moving Time\": \"00:47:57\", \"Elapsed Time\": \"00:56:45\", \"Min Elevation\": \"83\", \"Max Elevation\": \"117\"}, {\"Activity Type\": \"Running\", \"Date\": \"2021-11-01T05:45:08\", \"Favorite\": false, \"Title\": \"Al Rayyan Running\", \"Distance\": 8.09, \"Calories\": 933, \"Time\": \"01:13:58\", \"Avg HR\": \"154\", \"Max HR\": \"173\", \"Aerobic TE\": \"3.9\", \"Avg Run Cadence\": \"162\", \"Max Run Cadence\": \"171\", \"Avg Pace\": \"9:09\", \"Best Pace\": \"7:58\", \"Total Ascent\": \"48\", \"Total Descent\": \"110\", \"Avg Stride Length\": 1.09, \"Avg Vertical Ratio\": 8.4, \"Avg Vertical Oscillation\": 9.3, \"Avg Ground Contact Time\": \"278\", \"Avg GCT Balance\": \"49.4% L / 50.6% R\", \"Training Stress Score\\u00ae\": 0.0, \"Grit\": 0.0, \"Flow\": 0.0, \"Total Strokes\": \"--\", \"Avg. Swolf\": \"--\", \"Avg Stroke Rate\": \"--\", \"Total Reps\": \"--\", \"Total Sets\": \"--\", \"Dive Time\": \"0:00\", \"Min Temp\": 77.0, \"Surface Interval\": \"0:00\", \"Decompression\": \"No\", \"Best Lap Time\": \"01:22.99\", \"Number of Laps\": 9, \"Max Temp\": 0.0, \"Avg Resp\": \"26\", \"Min Resp\": \"11\", \"Max Resp\": \"40\", \"Moving Time\": \"01:13:55\", \"Elapsed Time\": \"01:13:58\", \"Min Elevation\": \"110\", \"Max Elevation\": \"183\"}], \"data-f688916954adbbad808295180db7fba4\": [{\"Date\": \"2021-10-11T00:00:00\", \"Mileage\": 0.0}, {\"Date\": \"2021-10-12T00:00:00\", \"Mileage\": 2.985074626865672}, {\"Date\": \"2021-10-13T00:00:00\", \"Mileage\": 5.970149253731344}, {\"Date\": \"2021-10-14T00:00:00\", \"Mileage\": 8.955223880597016}, {\"Date\": \"2021-10-15T00:00:00\", \"Mileage\": 11.940298507462687}, {\"Date\": \"2021-10-16T00:00:00\", \"Mileage\": 14.925373134328359}, {\"Date\": \"2021-10-17T00:00:00\", \"Mileage\": 17.910447761194032}, {\"Date\": \"2021-10-18T00:00:00\", \"Mileage\": 20.895522388059703}, {\"Date\": \"2021-10-19T00:00:00\", \"Mileage\": 23.880597014925375}, {\"Date\": \"2021-10-20T00:00:00\", \"Mileage\": 26.865671641791046}, {\"Date\": \"2021-10-21T00:00:00\", \"Mileage\": 29.850746268656717}, {\"Date\": \"2021-10-22T00:00:00\", \"Mileage\": 32.83582089552239}, {\"Date\": \"2021-10-23T00:00:00\", \"Mileage\": 35.820895522388064}, {\"Date\": \"2021-10-24T00:00:00\", \"Mileage\": 38.80597014925373}, {\"Date\": \"2021-10-25T00:00:00\", \"Mileage\": 41.791044776119406}, {\"Date\": \"2021-10-26T00:00:00\", \"Mileage\": 44.776119402985074}, {\"Date\": \"2021-10-27T00:00:00\", \"Mileage\": 47.76119402985075}, {\"Date\": \"2021-10-28T00:00:00\", \"Mileage\": 50.746268656716424}, {\"Date\": \"2021-10-29T00:00:00\", \"Mileage\": 53.73134328358209}, {\"Date\": \"2021-10-30T00:00:00\", \"Mileage\": 56.71641791044777}, {\"Date\": \"2021-10-31T00:00:00\", \"Mileage\": 59.701492537313435}, {\"Date\": \"2021-11-01T00:00:00\", \"Mileage\": 62.68656716417911}], \"data-123da4863298269dd129287779726878\": [{\"Date\": \"2021-10-18T00:00:00\", \"Distance\": 5.6}, {\"Date\": \"2021-10-20T00:00:00\", \"Distance\": 9.03}, {\"Date\": \"2021-10-21T00:00:00\", \"Distance\": 9.583977272727273}, {\"Date\": \"2021-10-22T00:00:00\", \"Distance\": 10.693977272727272}, {\"Date\": \"2021-10-23T00:00:00\", \"Distance\": 15.243977272727271}, {\"Date\": \"2021-10-24T00:00:00\", \"Distance\": 19.593977272727273}, {\"Date\": \"2021-10-25T00:00:00\", \"Distance\": 22.733977272727273}, {\"Date\": \"2021-10-26T00:00:00\", \"Distance\": 27.083977272727275}, {\"Date\": \"2021-10-27T00:00:00\", \"Distance\": 31.483977272727273}, {\"Date\": \"2021-10-29T00:00:00\", \"Distance\": 32.16579545454545}, {\"Date\": \"2021-10-30T00:00:00\", \"Distance\": 38.615795454545456}, {\"Date\": \"2021-10-31T00:00:00\", \"Distance\": 41.66579545454545}, {\"Date\": \"2021-11-01T00:00:00\", \"Distance\": 49.75579545454545}]}}, {\"mode\": \"vega-lite\"});\n</script>",
      "text/plain": [
       "alt.LayerChart(...)"
      ]
     },
     "execution_count": 5,
     "metadata": {
     },
     "output_type": "execute_result"
    }
   ],
   "source": [
    "goal_line = alt.Chart(goal).mark_line(clip=True).encode(\n",
    "    alt.X(\"monthdate(Date):O\"),\n",
    "    alt.Y(\"Mileage:Q\"),\n",
    "    color=alt.value(\"black\"),\n",
    ").properties(\n",
    "    title=\"Mileage Tracker\"\n",
    ")\n",
    "\n",
    "activity_bars = alt.Chart(activities).mark_bar().encode(\n",
    "    alt.X(\"monthdate(Date):O\"),\n",
    "    alt.Y(\"sum(Distance):Q\", title=\"Daily Mileage\"),\n",
    "    color=\"Activity Type\",\n",
    ")\n",
    "\n",
    "progress_line = alt.Chart(progress).mark_line().encode(\n",
    "    alt.X(\"monthdate(Date):O\"),\n",
    "    alt.Y(\"Distance:Q\", title=\"Cumulative Mileage\"),\n",
    "    color=alt.value(\"green\"),\n",
    ")\n",
    "\n",
    "alt.layer(\n",
    "    activity_bars, goal_line + progress_line\n",
    ").configure_axis(\n",
    "    grid=True,\n",
    ").properties(\n",
    "    width=640,\n",
    "    height=480,\n",
    ")"
   ]
  },
  {
   "cell_type": "code",
   "execution_count": 6,
   "metadata": {
    "collapsed": false
   },
   "outputs": [
    {
     "name": "stdout",
     "output_type": "stream",
     "text": [
      "**As of 2021-11-01**\n",
      "Progress: 49.8 miles\n",
      "Goal: 62.7 miles\n",
      "Difference: -12.9 miles\n",
      "\n",
      "Ideal daily mileage: 3.0 miles\n",
      "Time left: 45 days\n",
      "Daily mileage required to meet goal: 3.3 miles\n"
     ]
    }
   ],
   "source": [
    "goal_today = goal.loc[goal[\"Date\"]<=today, \"Mileage\"].max()\n",
    "progress_today = progress[\"Distance\"].max()\n",
    "difference = progress_today - goal_today\n",
    "time_left = goal_end_date - today\n",
    "ideal_daily_mileage = goal_mileage / (goal_end_date - goal_start_date).days\n",
    "if difference < 0:\n",
    "    daily_mileage = (-difference / time_left.days) + ideal_daily_mileage\n",
    "elif progress_today < goal_mileage:\n",
    "    daily_mileage = (goal_mileage - progress_today) / time_left.days\n",
    "else:\n",
    "    daily_mileage = 0\n",
    "\n",
    "print(f\"**As of {today.date()}**\")\n",
    "print(f\"Progress: {progress_today:.1f} miles\")\n",
    "print(f\"Goal: {goal_today:.1f} miles\")\n",
    "print(f\"Difference: {difference:.1f} miles\")\n",
    "print(f\"\\nIdeal daily mileage: {ideal_daily_mileage:.1f} miles\")\n",
    "print(f\"Time left: {time_left.days} days\")\n",
    "print(f\"Daily mileage required to meet goal: {daily_mileage:.1f} miles\")"
   ]
  }
 ],
 "metadata": {
  "kernelspec": {
   "display_name": "Python 3 (system-wide)",
   "language": "python",
   "metadata": {
    "cocalc": {
     "description": "Python 3 programming language",
     "priority": 100,
     "url": "https://www.python.org/"
    }
   },
   "name": "python3",
   "resource_dir": "/ext/jupyter/kernels/python3"
  },
  "language_info": {
   "codemirror_mode": {
    "name": "ipython",
    "version": 3
   },
   "file_extension": ".py",
   "mimetype": "text/x-python",
   "name": "python",
   "nbconvert_exporter": "python",
   "pygments_lexer": "ipython3",
   "version": "3.8.10"
  }
 },
 "nbformat": 4,
 "nbformat_minor": 4
}